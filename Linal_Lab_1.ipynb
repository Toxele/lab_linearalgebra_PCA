{
  "nbformat": 4,
  "nbformat_minor": 0,
  "metadata": {
    "colab": {
      "provenance": []
    },
    "kernelspec": {
      "display_name": "Python 3",
      "name": "python3"
    },
    "language_info": {
      "codemirror_mode": {
        "name": "ipython",
        "version": 3
      },
      "file_extension": ".py",
      "mimetype": "text/x-python",
      "name": "python",
      "nbconvert_exporter": "python",
      "pygments_lexer": "ipython3",
      "version": "3.7.7"
    }
  },
  "cells": [
    {
      "cell_type": "markdown",
      "source": [
        "**Авторы:** Таряник Антон (467677, J3111), Дубовик Никита (465809, J3110)"
      ],
      "metadata": {
        "id": "1gdIu3fccB1Q"
      }
    },
    {
      "cell_type": "code",
      "metadata": {
        "id": "AIjCDUN3_xjK",
        "colab": {
          "base_uri": "https://localhost:8080/"
        },
        "outputId": "1932b503-189d-4348-fd61-6bac39ef64b4"
      },
      "source": [
        "from google.colab import drive\n",
        "drive.mount('/content/drive')"
      ],
      "execution_count": null,
      "outputs": [
        {
          "output_type": "stream",
          "name": "stdout",
          "text": [
            "Drive already mounted at /content/drive; to attempt to forcibly remount, call drive.mount(\"/content/drive\", force_remount=True).\n"
          ]
        }
      ]
    },
    {
      "cell_type": "code",
      "source": [
        "import math\n",
        "import matplotlib.pyplot as plt\n",
        "import random\n",
        "from matplotlib.figure import Figure\n",
        "from typing import Union"
      ],
      "metadata": {
        "id": "BXYOPFbsIuKl"
      },
      "execution_count": null,
      "outputs": []
    },
    {
      "cell_type": "code",
      "source": [
        "class Matrix:\n",
        "    def __init__(self, data: list[list[int | float]]) -> None:\n",
        "        if not isinstance(data, list):\n",
        "            raise TypeError(\"Данные должны быть списком из списков\")\n",
        "\n",
        "        if not data:\n",
        "            self.data: list[list[int | float]] = []\n",
        "            self.rows: int = 0\n",
        "            self.cols: int = 0\n",
        "            return\n",
        "\n",
        "        row_lengths = {len(row) for row in data}\n",
        "        if len(row_lengths) > 1:\n",
        "            raise ValueError(\"Все строки должны иметь одинаковую длину\")\n",
        "\n",
        "        if any(not isinstance(elem, (int, float)) for row in data for elem in row):\n",
        "            raise ValueError(\"Все элементы должны быть числами\")\n",
        "\n",
        "        self.data: list[list[int | float]] = data\n",
        "        self.rows: int = len(data)\n",
        "        self.cols: int = len(data[0]) if data else 0\n",
        "\n",
        "    def __add__(self, other: 'Matrix') -> 'Matrix':\n",
        "        if not isinstance(other, Matrix):\n",
        "            raise TypeError(\"Поддерживается сложение только матрицы с матрицей\")\n",
        "        if self.rows != other.rows or self.cols != other.cols:\n",
        "            raise ValueError(\"Матрицы должны иметь одинаковые размеры\")\n",
        "        return Matrix([[self.data[i][j] + other.data[i][j] for j in range(self.cols)] for i in range(self.rows)])\n",
        "\n",
        "    def __sub__(self, other: 'Matrix') -> 'Matrix':\n",
        "        if not isinstance(other, Matrix):\n",
        "            raise TypeError(\"Поддерживается вычитание только матрицы из матрицы\")\n",
        "        if self.rows != other.rows or self.cols != other.cols:\n",
        "            raise ValueError(\"Матрицы должны иметь одинаковые размеры\")\n",
        "        return Matrix([[self.data[i][j] - other.data[i][j] for j in range(self.cols)] for i in range(self.rows)])\n",
        "\n",
        "    def __mul__(self, other: Union[int, float, 'Matrix']) -> 'Matrix':\n",
        "        if isinstance(other, (int, float)):\n",
        "            return Matrix([[elem * other for elem in row] for row in self.data])\n",
        "        elif isinstance(other, Matrix):\n",
        "            if self.rows != other.rows or self.cols != other.cols:\n",
        "                raise ValueError(\"Матрицы должны быть одного размера\")\n",
        "            return Matrix([[self.data[i][j] * other.data[i][j] for j in range(self.cols)] for i in range(self.rows)])\n",
        "        else:\n",
        "            raise TypeError(\"Неподдерживаемый тип умножения\")\n",
        "\n",
        "\n",
        "    def __matmul__(self, other: 'Matrix') -> 'Matrix':\n",
        "        if not isinstance(other, Matrix):\n",
        "            raise TypeError(\"Матричное умножение только с матрицей\")\n",
        "        if self.cols != other.rows:\n",
        "            raise ValueError(f\"Матрицы должны быть одного размера, cols матрицы A: {self.cols}, rows матрицы B: {other.rows}\")\n",
        "        return Matrix([[sum(a * b for a, b in zip(row, col)) for col in zip(*other.data)] for row in self.data])\n",
        "\n",
        "    def __rmul__(self, other: int | float) -> 'Matrix':\n",
        "        return self.__mul__(other)\n",
        "\n",
        "    def __iadd__(self, other: 'Matrix') -> 'Matrix':\n",
        "        if not isinstance(other, Matrix):\n",
        "            raise TypeError(\"Поддерживается сложение только матрицы с матрицей\")\n",
        "        if self.rows != other.rows or self.cols != other.cols:\n",
        "            raise ValueError(\"Матрицы должны иметь одинаковые размеры\")\n",
        "        for i in range(self.rows):\n",
        "            for j in range(self.cols):\n",
        "                self.data[i][j] += other.data[i][j]\n",
        "        return self\n",
        "\n",
        "    def __isub__(self, other: 'Matrix') -> 'Matrix':\n",
        "        if not isinstance(other, Matrix):\n",
        "            raise TypeError(\"Поддерживается вычитание только матрицы из матрицы\")\n",
        "        if self.rows != other.rows or self.cols != other.cols:\n",
        "            raise ValueError(\"Матрицы должны иметь одинаковые размеры\")\n",
        "        for i in range(self.rows):\n",
        "            for j in range(self.cols):\n",
        "                self.data[i][j] -= other.data[i][j]\n",
        "        return self\n",
        "\n",
        "    def __eq__(self, other: object) -> bool:\n",
        "        if not isinstance(other, Matrix):\n",
        "            return False\n",
        "        return self.data == other.data\n",
        "\n",
        "    def __repr__(self) -> str:\n",
        "        return f\"Matrix({self.data})\"\n",
        "\n",
        "    def __str__(self) -> str:\n",
        "        return '\\n'.join([' '.join(map(str, row)) for row in self.data])\n",
        "\n",
        "\n",
        "\n",
        "    @property\n",
        "    def is_square(self) -> bool:\n",
        "        return self.rows == self.cols\n",
        "\n",
        "    def transpose(self) -> 'Matrix':\n",
        "        \"\"\"\n",
        "        Выход:\n",
        "        x_transposed: Транспонированная матрица\n",
        "        \"\"\"\n",
        "        return Matrix(list(map(lambda row: list(row), zip(*self.data))))\n",
        "\n",
        "    def calculate_determinant(self) -> int | float:\n",
        "        \"\"\"\n",
        "        Выход:\n",
        "        determinant: Определитель матрицы\n",
        "        Raises:\n",
        "        ValueError: Если матрица не квадратная или пуста\n",
        "        \"\"\"\n",
        "        if not self.is_square:\n",
        "            raise ValueError(\"Определитель определен только для квадратных матриц\")\n",
        "        elif self.rows == 0:\n",
        "            raise ValueError(\"Пустая матрица не имеет определителя\")\n",
        "        elif self.rows == 1:\n",
        "            return self.data[0][0]\n",
        "        elif self.rows == 2:\n",
        "            return self.data[0][0] * self.data[1][1] - self.data[0][1] * self.data[1][0]\n",
        "\n",
        "        determinant: int | float = 0\n",
        "        for j in range(self.cols):\n",
        "            element = self.data[0][j]\n",
        "            minor = Matrix([row[:j] + row[j + 1:] for row in self.data[1:]])\n",
        "            determinant_minor = minor.calculate_determinant()\n",
        "            sign = (-1) ** j\n",
        "            determinant += element * sign * determinant_minor\n",
        "        return determinant\n",
        "\n",
        "    def round_zero(self, epsilon: float=1e-10):\n",
        "        \"\"\"Обнуляет элементы, абсолютное значение которых меньше epsilon.\"\"\"\n",
        "        for i in range(self.rows):\n",
        "            for j in range(self.cols):\n",
        "                if abs(self.data[i][j]) < epsilon:\n",
        "                    self.data[i][j] = 0.0\n",
        "        return self\n",
        "\n",
        "    def copy(self):\n",
        "      \"\"\"Возвращает копию матрицы\"\"\"\n",
        "      return Matrix(self.data.copy())\n",
        "\n",
        "\n",
        "    def submatrix(self, row_start: int, col_start: int, row_size: int, col_size: int):\n",
        "        \"\"\"Возвращает подматрицу размером row_size x col_size, начиная с (row_start, col_start).\"\"\"\n",
        "        return Matrix([\n",
        "            [self.data[i][j] for j in range(col_start, col_start + col_size)]\n",
        "            for i in range(row_start, row_start + row_size)\n",
        "        ])\n",
        "\n",
        "    def set_submatrix(self, row_start: int, col_start: int, submatrix: 'Matrix'):\n",
        "        \"\"\"Возвращает новую матрицу с изменённой подматрицей\"\"\"\n",
        "        new_data = [row.copy() for row in self.data]\n",
        "        for i in range(submatrix.rows):\n",
        "            for j in range(submatrix.cols):\n",
        "                new_data[row_start + i][col_start + j] = submatrix.data[i][j]\n",
        "        return Matrix(new_data)\n",
        "\n",
        "    @staticmethod\n",
        "    def identity(rows, cols=None):\n",
        "        \"\"\"Создает единичную матрицу или вектор-столбец с единицей на позиции (i,i).\"\"\"\n",
        "        cols = cols or rows\n",
        "        return Matrix([[1.0 if i == j else 0.0 for j in range(cols)] for i in range(rows)])\n",
        "\n",
        "\n",
        "\n",
        "\n",
        "    def norm(self):\n",
        "      \"\"\"Вычисляет евклидову норму вектора (для вектора-столбца).\"\"\"\n",
        "      return sum(x**2 for row in self.data for x in row)**0.5\n",
        "\n",
        "\n",
        "    def trace(self) -> int | float:\n",
        "        \"\"\"\n",
        "        Выход:\n",
        "        trace: След матрицы\n",
        "        Raises:\n",
        "        ValueError: Если матрица не квадратная\n",
        "        \"\"\"\n",
        "        if not self.is_square:\n",
        "            raise ValueError(\"След определён только для квадратных матриц\")\n",
        "        return sum(self.data[i][i] for i in range(self.rows))\n",
        "\n",
        "    # для тестов\n",
        "    def is_close(self, other: 'Matrix', tol: float = 1e-9) -> bool:\n",
        "        if self.rows != other.rows or self.cols != other.cols:\n",
        "            return False\n",
        "        for i in range(self.rows):\n",
        "            for j in range(self.cols):\n",
        "                if abs(self.data[i][j] - other.data[i][j]) > tol:\n",
        "                    return False\n",
        "        return True\n"
      ],
      "metadata": {
        "id": "gR0t6DuhueYo"
      },
      "execution_count": null,
      "outputs": []
    },
    {
      "cell_type": "code",
      "source": [
        "def generate_standard_basis(n: int) -> Matrix:\n",
        "  \"\"\"Возвращает матрицу стандартного базиса размерности nxn\"\"\"\n",
        "  basis = []\n",
        "  for i in range(n):\n",
        "    e = [0] * n\n",
        "    e[i] = 1\n",
        "    basis.append(e)\n",
        "  return Matrix(basis)"
      ],
      "metadata": {
        "id": "vWmgTa9mbUV9"
      },
      "execution_count": null,
      "outputs": []
    },
    {
      "cell_type": "markdown",
      "source": [
        "Метод бисекции:"
      ],
      "metadata": {
        "id": "Ix2DwNLRZaWJ"
      }
    },
    {
      "cell_type": "code",
      "source": [
        "def householder_reflection(x: Matrix) -> tuple[Matrix, float]:\n",
        "    \"\"\"\n",
        "    Вычисляет вектор и коэффициент для преобразования Хаусхолдера, отражающего вектор x на вектор с одной ненулевой компонентой.\n",
        "\n",
        "    Формат входа:\n",
        "    x: Matrix - вектор-столбец размерности m×1\n",
        "\n",
        "    Формат выхода:\n",
        "    (v, beta): (Matrix, float) - вектор отражения Хаусхолдера и коэффициент.\n",
        "                  Если входной вектор нулевой или пустой, возвращает (None, 0.0)\n",
        "\n",
        "    Теоретическая часть:\n",
        "    Преобразование Хаусхолдера H = I - beta*v*v^T отражает вектор x относительно гиперплоскости,\n",
        "    обнуляя все компоненты кроме первой. Алгоритм:\n",
        "    1. Вычисляется норма вектора alpha = ||x||\n",
        "    2. Знак sign выбирается противоположным x[0] для минимизации ошибок округления\n",
        "    3. Вектор отражения v = x + sign*alpha*e1 (e1 - первый базисный вектор)\n",
        "    4. Коэффициент beta = 2/(v^T*v) обеспечивает ортогональность преобразования\n",
        "    \"\"\"\n",
        "    eps = 1e-15\n",
        "    m = x.rows\n",
        "    if m == 0:\n",
        "        return None, 0.0\n",
        "    alpha = x.norm()\n",
        "    if alpha < eps:\n",
        "        return None, 0.0\n",
        "\n",
        "    sign = 1 if x.data[0][0] >= 0 else -1\n",
        "    v_data = x.data.copy()\n",
        "    v_data[0][0] += sign * alpha\n",
        "    v = Matrix(v_data)\n",
        "    beta = 2.0 / ((v.transpose() @ v).data[0][0])\n",
        "    return v, beta\n",
        "\n",
        "def triangularize(A: Matrix) -> Matrix:\n",
        "    \"\"\"\n",
        "    Приводит квадратную матрицу A к верхней форме Хессенберга с использованием преобразований Хаусхолдера.\n",
        "\n",
        "    Формат входа:\n",
        "    A: Matrix - квадратная матрица размерности n×n\n",
        "\n",
        "    Формат выхода:\n",
        "    Matrix - матрица в верхней форме Хессенберга.\n",
        "             Модифицирует исходную матрицу, сохраняя подобие.\n",
        "\n",
        "    Теоретическая часть:\n",
        "    Алгоритм последовательно обнуляет элементы ниже первой поддиагонали с помощью преобразований Хаусхолдера:\n",
        "    1. Для каждого столбца k (0 ≤ k < n-2):\n",
        "       a. Выделяется подвектор x в столбце k ниже диагонали\n",
        "       b. Строится преобразование Хаусхолдера для вектора x\n",
        "       c. Применяется преобразование слева к подматрице A[k+1:, k:] для обнуления элементов\n",
        "       d. Применяется преобразование справа к подматрице A[:, k+1:] для сохранения подобия матрицы\n",
        "\n",
        "    Свойства:\n",
        "    - Сохраняет собственные значения матрицы (подобное преобразование)\n",
        "    - Сложность O(n^3) операций\n",
        "    - Численно устойчив благодаря использованию ортогональных преобразований\n",
        "    \"\"\"\n",
        "    n = A.rows\n",
        "    for k in range(n - 2):\n",
        "        # Берутся элементы столбца k ниже диагонали (k+1 до n-1)\n",
        "        x = A.submatrix(row_start=k+1, col_start=k, row_size=n-k-1, col_size=1)\n",
        "\n",
        "        if x.rows == 0:\n",
        "            continue\n",
        "        v, beta = householder_reflection(x)\n",
        "        if v is None or beta < 1e-10:\n",
        "            continue\n",
        "\n",
        "        # Применяем отражение слева к подматрице A[k+1:, k:]\n",
        "        sub_left = A.submatrix(row_start=k+1, col_start=k, row_size=n-k-1, col_size=n-k)\n",
        "        vT = v.transpose()\n",
        "        update_left = (v @ (vT @ sub_left)) * beta\n",
        "\n",
        "        for i in range(k+1, n):\n",
        "            for j in range(k, n):\n",
        "                A.data[i][j] -= update_left.data[i - (k+1)][j - k]\n",
        "\n",
        "        # Применяем отражение справа\n",
        "        sub_right = A.submatrix(row_start=0, col_start=k+1, row_size=n, col_size=n-k-1)\n",
        "        temp = sub_right @ v\n",
        "        update_right = (temp @ vT) * beta\n",
        "\n",
        "        for i in range(n):\n",
        "            for j in range(k+1, n):\n",
        "                A.data[i][j] -= update_right.data[i][j - (k+1)]\n",
        "    A.round_zero()\n",
        "    return A"
      ],
      "metadata": {
        "id": "ffKdvofPc82k"
      },
      "execution_count": null,
      "outputs": []
    },
    {
      "cell_type": "code",
      "source": [
        "def sturm_sequence_count(T: Matrix, sigma: float) -> int:\n",
        "    \"\"\"\n",
        "    Возвращает количество перемен знака в последовательности Штурма для заданного sigma.\n",
        "\n",
        "    Формат входа:\n",
        "    T: Matrix - трехдиагональная матрица размерности n×n\n",
        "    sigma: float - значение для сравнения\n",
        "\n",
        "    Формат выхода:\n",
        "    int - количество собственных значений матрицы T, меньших sigma\n",
        "\n",
        "    Теоретическая часть:\n",
        "    Последовательность Штурма {p_0, p_1, ..., p_n} строится рекуррентно:\n",
        "    p_0 = 1\n",
        "    p_1 = T[0][0] - sigma\n",
        "    p_i = (T[i][i] - sigma) * p_{i-1} - (T[i-1][i]^2) * p_{i-2}\n",
        "\n",
        "    Количество перемен знака определяется по правилу:\n",
        "    - Знак считается измененным, если p_i * p_{i-1} < 0\n",
        "    - Нулевые значения игнорируются в последовательности\n",
        "\n",
        "    Свойства:\n",
        "    - Число перемен знака равно количеству собственных значений < sigma (теорема Штурма)\n",
        "    \"\"\"\n",
        "    n = T.rows\n",
        "    p_prev = 1.0\n",
        "    p_curr = T.data[0][0] - sigma\n",
        "    sign_changes = 0\n",
        "\n",
        "    if p_prev * p_curr < 0:\n",
        "        sign_changes += 1\n",
        "\n",
        "    for i in range(1, n):\n",
        "        p_next = (T.data[i][i] - sigma) * p_curr - (T.data[i-1][i] ** 2) * p_prev\n",
        "        if p_curr * p_next < 0:\n",
        "            sign_changes += 1\n",
        "        p_prev, p_curr = p_curr, p_next\n",
        "\n",
        "    return sign_changes"
      ],
      "metadata": {
        "id": "fQkQ6p0-APmm"
      },
      "execution_count": null,
      "outputs": []
    },
    {
      "cell_type": "code",
      "source": [
        "def bisection(T: Matrix, low: float, high: float, epsilon: float=1e-6, eigenvalues: list[float]=None) -> list[float]:\n",
        "    \"\"\"\n",
        "    Находит собственные значения трехдиагональной матрицы T в интервале [low, high] методом бисекции.\n",
        "\n",
        "    Формат входа:\n",
        "    T: Matrix - симметричная трехдиагональная матрица\n",
        "    low: float - левая граница интервала поиска\n",
        "    high: float - правая граница интервала поиска\n",
        "    epsilon: float - точность определения (по умолчанию 1e-6)\n",
        "    eigenvalues: list[float] - список собственных значений (нужо для рекурсии)\n",
        "    Формат выхода:\n",
        "    list[float] - список собственных значений в [low, high]\n",
        "\n",
        "    Теоретическая часть:\n",
        "    Алгоритм бисекции для локализации собственных значений:\n",
        "    1. Использует теорему Штурма для подсчета числа собственных значений в интервале\n",
        "    2. Рекурсивно делит интервал, пока его ширина не станет меньше epsilon\n",
        "    3. Для узких интервалов добавляет среднюю точку как приближение собственного значения\n",
        "    \"\"\"\n",
        "    if eigenvalues is None:\n",
        "        eigenvalues = []\n",
        "\n",
        "    count_high = sturm_sequence_count(T, high)\n",
        "    count_low = sturm_sequence_count(T, low)\n",
        "    num_eigenvalues = count_high - count_low\n",
        "\n",
        "    if num_eigenvalues == 0:\n",
        "        return eigenvalues\n",
        "\n",
        "    if high - low < epsilon:\n",
        "        mid = (low + high) / 2\n",
        "        eigenvalues.extend([mid] * num_eigenvalues)\n",
        "        return eigenvalues\n",
        "\n",
        "    mid = (low + high) / 2\n",
        "    bisection(T, low, mid, epsilon, eigenvalues)\n",
        "    bisection(T, mid, high, epsilon, eigenvalues)\n",
        "    return eigenvalues"
      ],
      "metadata": {
        "id": "z64iWkpmAR5m"
      },
      "execution_count": null,
      "outputs": []
    },
    {
      "cell_type": "code",
      "source": [
        "def get_eigenvalues(T: Matrix, tol=1e-8) -> list[float]:\n",
        "    \"\"\"\n",
        "    Вычисляет собственные значения симметричной трехдиагональной матрицы методом бисекции.\n",
        "\n",
        "    Формат входа:\n",
        "    T: Matrix - симметричная трехдиагональная матрица\n",
        "    tol: float - точность вычислений (по умолчанию 1e-8)\n",
        "\n",
        "    Формат выхода:\n",
        "    list[float] - отсортированный список собственных значений\n",
        "\n",
        "    Теоретическая часть:\n",
        "    1. Триангуляризация матрицы (приведение к трехдиагональной форме)\n",
        "    2. Вычисление границ Гершгорина для локализации интервала поиска\n",
        "    3. Применение алгоритма бисекции с использованием последовательности Штурма\n",
        "    \"\"\"\n",
        "    # Триангуляризуем копию матрицы\n",
        "    T_tri = T.copy()\n",
        "    T_tri = triangularize(T_tri)\n",
        "\n",
        "    # Вычисляем границы Гершгорина для трехдиагональной матрицы\n",
        "    Gershgorin_low = min(\n",
        "        T_tri.data[i][i] - abs(T_tri.data[i][i-1] if i > 0 else 0) - abs(T_tri.data[i][i+1] if i < T_tri.rows-1 else 0)\n",
        "        for i in range(T_tri.rows)\n",
        "    )\n",
        "    Gershgorin_high = max(\n",
        "        T_tri.data[i][i] + abs(T_tri.data[i][i-1] if i > 0 else 0) + abs(T_tri.data[i][i+1] if i < T_tri.rows-1 else 0)\n",
        "        for i in range(T_tri.rows)\n",
        "    )\n",
        "\n",
        "    # Запускаем бисекцию на трехдиагональной матрице\n",
        "    eigenvalues = bisection(T_tri, Gershgorin_low, Gershgorin_high, epsilon=tol)\n",
        "    return eigenvalues"
      ],
      "metadata": {
        "id": "PZNJtEjdApOG"
      },
      "execution_count": null,
      "outputs": []
    },
    {
      "cell_type": "markdown",
      "source": [
        "QR-разложение:"
      ],
      "metadata": {
        "id": "LhJcJikDZVf6"
      }
    },
    {
      "cell_type": "code",
      "source": [
        "def hessenberg_form(A: Matrix) -> Matrix:\n",
        "    \"\"\"\n",
        "    Приводит матрицу к верхней форме Хессенберга преобразованиями Хаусхолдера.\n",
        "\n",
        "    Формат входа:\n",
        "    A: Matrix - произвольная квадратная матрица\n",
        "\n",
        "    Формат выхода:\n",
        "    Matrix - матрица в форме Хессенберга\n",
        "\n",
        "    Теоретическая часть:\n",
        "    1. Последовательное применение преобразований Хаусхолдера к столбцам матрицы\n",
        "    2. Обнуление элементов ниже поддиагонали\n",
        "    3. Сохранение подобия матриц через двусторонние преобразования\n",
        "    \"\"\"\n",
        "    n = A.rows\n",
        "    H = A.copy()\n",
        "    eps = 1e-15\n",
        "\n",
        "    for k in range(n - 2):\n",
        "        # Выделение столбца k ниже диагонали (k+1 до n-1)\n",
        "        x = H.submatrix(row_start=k+1, col_start=k, row_size=n-k-1, col_size=1)\n",
        "        x_norm = x.norm()\n",
        "        if x_norm < eps:\n",
        "            continue\n",
        "\n",
        "        # Вектор Хаусхолдера\n",
        "        v, beta = householder_reflection(x)\n",
        "\n",
        "        # Применение преобразования слева\n",
        "        left_block = H.submatrix(k+1, k, n - (k+1), n - k)\n",
        "        update = (v @ (v.transpose() @ left_block)) * beta\n",
        "        H = H.set_submatrix(k+1, k, left_block - update)\n",
        "\n",
        "        # Применение преобразования справа\n",
        "        right_block = H.submatrix(0, k+1, n, n - (k+1))\n",
        "        update = (right_block @ v) @ v.transpose() * beta\n",
        "        H = H.set_submatrix(0, k+1, right_block - update)\n",
        "\n",
        "    return H.round_zero()"
      ],
      "metadata": {
        "id": "mDrI6SgFK_Fx"
      },
      "execution_count": null,
      "outputs": []
    },
    {
      "cell_type": "code",
      "source": [
        "def qr_decomposition(A: Matrix) -> tuple[Matrix, Matrix]:\n",
        "    \"\"\"\n",
        "    Выполняет QR-разложение матрицы методом Хаусхолдера.\n",
        "\n",
        "    Формат входа:\n",
        "    A: Matrix - произвольная прямоугольная матрица\n",
        "\n",
        "    Формат выхода:\n",
        "    (Q, R): (Matrix, Matrix) - ортогональная Q и верхнетреугольная R матрицы\n",
        "\n",
        "    Теоретическая часть:\n",
        "    1. Последовательное построение векторов отражения Хаусхолдера\n",
        "    2. Накопление преобразований в матрице Q\n",
        "    3. Постепенное приведение к треугольной форме в R\n",
        "    \"\"\"\n",
        "    m, n = A.rows, A.cols\n",
        "    Q = Matrix.identity(m)\n",
        "    R = A.copy()  # Работаем с копией\n",
        "\n",
        "    for k in range(min(m, n)):\n",
        "        # Выделение столбца из копии R\n",
        "        x = R.submatrix(k, k, m-k, 1)\n",
        "        v, beta = householder_reflection(x)\n",
        "        if not v or beta < 1e-15:\n",
        "            continue\n",
        "\n",
        "        # Обновление R через новые матрицы\n",
        "        R_rows = R.rows\n",
        "        R_cols = R.cols\n",
        "        R_sub = R.submatrix(k, k, R_rows - k, R_cols - k)\n",
        "        update = (v @ (v.transpose() @ R_sub)) * beta\n",
        "        new_R_sub = R_sub - update\n",
        "        R = R.set_submatrix(k, k, new_R_sub)\n",
        "\n",
        "        # Обновление Q через новые матрицы\n",
        "        Q_sub = Q.submatrix(0, k, Q.rows, Q.cols - k)\n",
        "        update_Q = Q_sub @ (v @ (v.transpose() * beta))\n",
        "        new_Q_sub = Q_sub - update_Q\n",
        "        Q = Q.set_submatrix(0, k, new_Q_sub)\n",
        "\n",
        "    return Q, R"
      ],
      "metadata": {
        "id": "FBvLQkuvLNXX"
      },
      "execution_count": null,
      "outputs": []
    },
    {
      "cell_type": "code",
      "source": [
        "def extract_eigenvalues(H: Matrix, tol: float=1e-8) -> list[float]:\n",
        "    \"\"\"\n",
        "    Извлекает собственные значения из матрицы в форме Хессенберга.\n",
        "\n",
        "    Формат входа:\n",
        "    H: Matrix - матрица в форме Хессенберга\n",
        "    tol: float - порог для определения нулевых элементов\n",
        "\n",
        "    Формат выхода:\n",
        "    list[float] - список собственных значений\n",
        "\n",
        "    Теоретическая часть:\n",
        "    1. Извлечение диагональных элементов преобразованной матрицы, т.к. они совпадают с собственными значениями исходной матрицы\n",
        "\n",
        "    Особый случай:\n",
        "    - Комплексные корни пропускаются (только вещественные)\n",
        "    \"\"\"\n",
        "    n = H.rows\n",
        "    eigenvalues = []\n",
        "    i = 0\n",
        "    while i < n:\n",
        "        if i == n-1 or abs(H.data[i+1][i]) < tol:\n",
        "            eigenvalues.append(H.data[i][i])\n",
        "            i += 1\n",
        "        else:\n",
        "            # Пропускаем блок 2x2 с комплексными корнями, если такие имеются\n",
        "            # В рамках данной лабораторной комплексные корни возникнуть не могут, т.к. матрица ковариаций симметрична. Однако обработать данный случай всё-же стоит\n",
        "            i += 2\n",
        "    return eigenvalues"
      ],
      "metadata": {
        "id": "r4xphmbxcvHL"
      },
      "execution_count": null,
      "outputs": []
    },
    {
      "cell_type": "code",
      "source": [
        "def qr_algorithm(A: Matrix, max_iter: int=500, tol: float=1e-8) -> tuple[list[float], Matrix]:\n",
        "    \"\"\"\n",
        "    Вычисляет собственные значения методом QR-итераций.\n",
        "\n",
        "    Формат входа:\n",
        "    A: Matrix - квадратная матрица\n",
        "    max_iter: int - максимальное число итераций\n",
        "    tol: float - точность определения сходимости\n",
        "\n",
        "    Формат выхода:\n",
        "    (eigenvalues, eigenvectors) - собственные значения и матрица векторов\n",
        "\n",
        "    Теоретическая часть:\n",
        "    1. Предварительное приведение к форме Хессенберга\n",
        "    2. Итерационное применение QR-разложения\n",
        "    \"\"\"\n",
        "    H = hessenberg_form(A)\n",
        "    n = H.rows\n",
        "\n",
        "    for _ in range(max_iter):\n",
        "        # Ищем последний ненулевой поддиагональный элемент\n",
        "        m = n - 1\n",
        "        while m > 0 and abs(H.data[m][m-1]) < tol:\n",
        "            m -= 1\n",
        "\n",
        "        if m == 0:\n",
        "            break\n",
        "\n",
        "        Q, R = qr_decomposition(H)\n",
        "        H = R @ Q\n",
        "\n",
        "        for i in range(1, n):\n",
        "            if abs(H.data[i][i-1]) < tol:\n",
        "                H.data[i][i-1] = 0.0\n",
        "\n",
        "    return extract_eigenvalues(H, tol)"
      ],
      "metadata": {
        "id": "dFnGZG_mTPt_"
      },
      "execution_count": null,
      "outputs": []
    },
    {
      "cell_type": "markdown",
      "source": [
        "Метод Гаусса:"
      ],
      "metadata": {
        "id": "KHaMm1LVH4x3"
      }
    },
    {
      "cell_type": "code",
      "source": [
        "def gauss_solver(A: Matrix, b: Matrix, eps=1e-10) -> tuple[list[Matrix], list[int | float]]:\n",
        "    \"\"\"\n",
        "    Решает СЛАУ методом Гаусса с поиском общего решения.\n",
        "\n",
        "    Формат входа:\n",
        "    A: Matrix - матрица коэффициентов\n",
        "    b: Matrix - вектор правой части\n",
        "\n",
        "    Формат выхода:\n",
        "    (basis_vectors, x_particular) - базис однородных решений и частное решение\n",
        "\n",
        "    Теоретическая часть:\n",
        "    1. Прямой ход с выбором ведущего элемента\n",
        "    2. Обратный ход для приведения к ступенчатому виду\n",
        "    3. Построение фундаментальной системы решений\n",
        "    \"\"\"\n",
        "    if A.rows != b.rows:\n",
        "        raise ValueError(\"Размерности не совпадают\")\n",
        "\n",
        "    # Создаём расширенную матрицу\n",
        "    Ab = [row.copy() + [b.data[i][0]] for i, row in enumerate(A.data)]\n",
        "    n = len(Ab)\n",
        "    m = len(Ab[0]) - 1\n",
        "\n",
        "    # Прямой ход метода Гаусса\n",
        "    rank = 0\n",
        "    pivot_cols = []\n",
        "\n",
        "    for j in range(m):\n",
        "        if rank >= n:\n",
        "            break\n",
        "\n",
        "        # Поиск ненулевого элемента в столбце j\n",
        "        pivot_row = None\n",
        "        for i in range(rank, n):\n",
        "            if abs(Ab[i][j]) > eps:\n",
        "                pivot_row = i\n",
        "                break\n",
        "\n",
        "        if pivot_row is None:\n",
        "            continue\n",
        "\n",
        "        # Перестановка строк\n",
        "        Ab[rank], Ab[pivot_row] = Ab[pivot_row], Ab[rank]\n",
        "\n",
        "        # Нормировка\n",
        "        pivot_val = Ab[rank][j]\n",
        "        Ab[rank][j] = 1\n",
        "        for k in range(j + 1, m + 1):\n",
        "            Ab[rank][k] /= pivot_val\n",
        "\n",
        "        # Обнуление ниже\n",
        "        for i in range(rank + 1, n):\n",
        "            factor = Ab[i][j]\n",
        "            for k in range(j, m + 1):\n",
        "                Ab[i][k] -= factor * Ab[rank][k]\n",
        "\n",
        "        pivot_cols.append(j)\n",
        "        rank += 1\n",
        "\n",
        "    # Проверка совместности\n",
        "    for i in range(rank, n):\n",
        "        if abs(Ab[i][-1]) > eps:\n",
        "            raise ValueError(\"Система несовместна\")\n",
        "\n",
        "    # Обратный ход\n",
        "    for i in range(rank - 1, -1, -1):\n",
        "        pivot_col = next((j for j in range(m) if abs(Ab[i][j]) > eps), None)\n",
        "        if pivot_col is None:\n",
        "            continue\n",
        "\n",
        "        for k in range(i - 1, -1, -1):\n",
        "            factor = Ab[k][pivot_col]\n",
        "            for l in range(pivot_col, m + 1):\n",
        "                Ab[k][l] -= factor * Ab[i][l]\n",
        "\n",
        "    # Построение решений\n",
        "    free_cols = [j for j in range(m) if j not in pivot_cols]\n",
        "\n",
        "    # Частное решение (для однородной системы будет нулевым)\n",
        "    x_particular = [0] * m\n",
        "\n",
        "    # Базисные векторы\n",
        "    basis_vectors = []\n",
        "    for free in free_cols:\n",
        "        vec = [0] * m\n",
        "        vec[free] = 1\n",
        "\n",
        "        for i in range(rank):\n",
        "            pivot = next((j for j in range(m) if abs(Ab[i][j]) > eps), None)\n",
        "            if pivot is not None and pivot < free:\n",
        "                vec[pivot] = -Ab[i][free]\n",
        "        basis_vectors.append(Matrix([[x] for x in vec]))\n",
        "    return basis_vectors, x_particular"
      ],
      "metadata": {
        "id": "bj7_feXSvKeO"
      },
      "execution_count": null,
      "outputs": []
    },
    {
      "cell_type": "markdown",
      "source": [
        "Получение собственных векторов:"
      ],
      "metadata": {
        "id": "DAm4Be9zH7LB"
      }
    },
    {
      "cell_type": "code",
      "source": [
        "def get_eigenvectors(C: Matrix, eigenvalues: list[float], eps=1e-10) -> list[Matrix]:\n",
        "    \"\"\"\n",
        "    Вычисляет собственные векторы для заданных собственных значений.\n",
        "\n",
        "    Формат входа:\n",
        "    C: Matrix - исходная квадратная матрица\n",
        "    eigenvalues: list[float] - список собственных значений\n",
        "\n",
        "    Формат выхода:\n",
        "    list[Matrix] - список ортонормированных собственных векторов\n",
        "\n",
        "    Теоретическая часть:\n",
        "    1. Решение однородной системы (A - λI)v = 0\n",
        "    2. Нормировка векторов\n",
        "    \"\"\"\n",
        "    if C.cols != C.rows:\n",
        "        raise ValueError(\"Матрица не квадратная!\")\n",
        "\n",
        "    I = Matrix([[1 if i == j else 0 for j in range(C.cols)] for i in range(C.rows)])\n",
        "\n",
        "    eigenvectors = []\n",
        "\n",
        "    for eigenvalue in eigenvalues:\n",
        "        system_matrix = C - (eigenvalue * I)\n",
        "        zero_vector = Matrix([[0] for _ in range(C.rows)])\n",
        "        try:\n",
        "            basis_vectors, _ = gauss_solver(system_matrix, zero_vector, eps=eps)\n",
        "        except ValueError as e:\n",
        "            if \"несовместна\" in str(e):\n",
        "                continue\n",
        "            raise\n",
        "\n",
        "        if not basis_vectors:\n",
        "            basis_vectors = [Matrix([[0] for i in range(C.rows)])]\n",
        "\n",
        "        for vec in basis_vectors:\n",
        "            norm = sum(x[0]**2 for x in vec.data)**0.5\n",
        "            if norm < eps:\n",
        "                continue\n",
        "\n",
        "            normalized_data = [[x[0]/norm] for x in vec.data]\n",
        "            eigenvectors.append(Matrix(normalized_data))\n",
        "    return eigenvectors"
      ],
      "metadata": {
        "id": "9pFbIfuyleIr"
      },
      "execution_count": null,
      "outputs": []
    },
    {
      "cell_type": "markdown",
      "source": [
        "Реализация PCA:"
      ],
      "metadata": {
        "id": "nwh23XAAIBzE"
      }
    },
    {
      "cell_type": "code",
      "source": [
        "def center_data(x: Matrix) -> Matrix:\n",
        "    \"\"\"\n",
        "    Вход: матрица данных x (n×m)\n",
        "    Выход: центрированная матрица x_centered (n×m)\n",
        "    \"\"\"\n",
        "    means = [sum(col) / x.rows for col in zip(*x.data)]\n",
        "    mean_matrix = Matrix([means for _ in range(x.rows)])\n",
        "    return x - mean_matrix"
      ],
      "metadata": {
        "id": "oXujQ2HQugJx",
        "cellView": "code"
      },
      "execution_count": null,
      "outputs": []
    },
    {
      "cell_type": "code",
      "source": [
        "def covariance_matrix(x_centered: Matrix) -> Matrix:\n",
        "    \"\"\"\n",
        "    Вход: центрированная матрица x_centered (n×m)\n",
        "    Выход: матрица ковариаций c (m×m)\n",
        "    \"\"\"\n",
        "    return (1 / (x_centered.rows - 1)) * x_centered.transpose() @ x_centered"
      ],
      "metadata": {
        "id": "UJI2M0y5uh00"
      },
      "execution_count": null,
      "outputs": []
    },
    {
      "cell_type": "code",
      "source": [
        "def find_eigenvalues(C: Matrix, tol: float = 1e-14, useQR = False) -> list[float]:\n",
        "    return qr_algorithm(C, tol = tol) if useQR else get_eigenvalues(C, tol = tol)"
      ],
      "metadata": {
        "id": "Cb13AM87ujDM"
      },
      "execution_count": null,
      "outputs": []
    },
    {
      "cell_type": "code",
      "source": [
        "def find_eigenvectors(C: Matrix, eigenvalues: list[float], eps=1e-10) -> list[Matrix]:\n",
        "    return get_eigenvectors(C,eigenvalues, eps=eps)"
      ],
      "metadata": {
        "id": "6cM9SrLjvqqX"
      },
      "execution_count": null,
      "outputs": []
    },
    {
      "cell_type": "code",
      "source": [
        "def explained_variance_ratio(eigenvalues: list[float], k: int) -> float:\n",
        "    \"\"\"\n",
        "    Вход:\n",
        "    eigenvalues: список собственных значений\n",
        "    k: число компонент\n",
        "    Выход: доля объяснённой дисперсии\n",
        "    \"\"\"\n",
        "    return sum(eigenvalues[:k]) / sum(eigenvalues)"
      ],
      "metadata": {
        "id": "RsDjUQ5kvzGq"
      },
      "execution_count": null,
      "outputs": []
    },
    {
      "cell_type": "code",
      "source": [
        "def pca(x: Matrix, k: int, useQR = False, eps=1e-10) -> tuple[Matrix, float]:\n",
        "    \"\"\"\n",
        "    Вход:\n",
        "    x: матрица данных (n×m)\n",
        "    k: число главных компонент\n",
        "    Выход:\n",
        "    x_proj: проекция данных (n×k)\n",
        "    : доля объяснённой дисперсии\n",
        "    \"\"\"\n",
        "    x_centered = center_data(x)\n",
        "    c = covariance_matrix(x_centered)\n",
        "    eigenvalues = find_eigenvalues(c, useQR=useQR)\n",
        "    eigenvectors = find_eigenvectors(c, eigenvalues, eps=eps)\n",
        "    pairs = sorted(zip(eigenvalues, eigenvectors), key=lambda x: -x[0])\n",
        "    sorted_eigenvalues, sorted_eigenvectors = zip(*pairs)\n",
        "    w = Matrix([[vec.data[i][0] for vec in sorted_eigenvectors[:k]] for i in range(len(sorted_eigenvectors[0].data))])\n",
        "    x_proj = x_centered @ w\n",
        "    ratio = explained_variance_ratio(sorted_eigenvalues, k)\n",
        "    return x_proj, ratio"
      ],
      "metadata": {
        "id": "gP8zV1W_v2Et"
      },
      "execution_count": null,
      "outputs": []
    },
    {
      "cell_type": "code",
      "source": [
        "def plot_pca_projection(x_proj: Matrix, title: str = \"PCA Projection\") -> Figure:\n",
        "    \"\"\"\n",
        "    Вход: проекция данных x_proj (n×2)\n",
        "    Выход: объект Figure из Matplotlib\n",
        "    \"\"\"\n",
        "    fig = plt.figure()\n",
        "    x = [row[0] for row in x_proj.data]\n",
        "    y = [row[1] for row in x_proj.data] if x_proj.cols >= 2 else [0] * len(x)\n",
        "    plt.scatter(x, y)\n",
        "    plt.xlabel('Principal Component 1')\n",
        "    plt.ylabel('Principal Component 2')\n",
        "    plt.title(title)\n",
        "    return fig"
      ],
      "metadata": {
        "id": "0sWbvSH1v7I9"
      },
      "execution_count": null,
      "outputs": []
    },
    {
      "cell_type": "code",
      "source": [
        "def reconstruction_error(x_orig: Matrix, x_recon: Matrix) -> float:\n",
        "    \"\"\"\n",
        "    Вход:\n",
        "    x_orig: исходные данные (n×m)\n",
        "    x_recon: восстановленные данные (n×m)\n",
        "    Выход: среднеквадратическая ошибка MSE\n",
        "    \"\"\"\n",
        "    error = 0.0\n",
        "    for i in range(x_orig.rows):\n",
        "        for j in range(x_orig.cols):\n",
        "            error += (x_orig.data[i][j] - x_recon.data[i][j]) ** 2\n",
        "    return error / (x_orig.rows * x_orig.cols)"
      ],
      "metadata": {
        "id": "A1U052FywBNq"
      },
      "execution_count": null,
      "outputs": []
    },
    {
      "cell_type": "code",
      "source": [
        "def auto_select_k(eigenvalues: list[float], threshold: float = 0.95) -> int:\n",
        "    \"\"\"\n",
        "    Вход:\n",
        "    eigenvalues: список собственных значений\n",
        "    threshold: порог объяснённой дисперсии\n",
        "    Выход: оптимальное число главных компонент k\n",
        "    \"\"\"\n",
        "    total = sum(eigenvalues)\n",
        "    cumulative_sum = 0\n",
        "    for i, val in enumerate(eigenvalues, 1):\n",
        "        cumulative_sum += val\n",
        "        if cumulative_sum / total >= threshold:\n",
        "            return i\n",
        "    return len(eigenvalues)"
      ],
      "metadata": {
        "id": "PKE_Mb2qwEdU"
      },
      "execution_count": null,
      "outputs": []
    },
    {
      "cell_type": "code",
      "source": [
        "def handle_missing_values(x: Matrix) -> Matrix:\n",
        "    \"\"\"\n",
        "    Вход: матрица данных x (n×m) с возможными NaN\n",
        "    Выход: матрица данных x_filled (n×m) без NaN\n",
        "    \"\"\"\n",
        "    matrix_data = [row.copy() for row in x.data]\n",
        "\n",
        "    for j in range(x.cols):\n",
        "        values = []\n",
        "        for i in range(x.rows):\n",
        "            val = matrix_data[i][j]\n",
        "            if not math.isnan(val):\n",
        "                values.append(val)\n",
        "        mean = sum(values) / len(values) if values else 0\n",
        "        for i in range(x.rows):\n",
        "            if math.isnan(matrix_data[i][j]):\n",
        "                matrix_data[i][j] = mean\n",
        "\n",
        "    return Matrix(matrix_data)"
      ],
      "metadata": {
        "id": "zK9DwG4awGWv"
      },
      "execution_count": null,
      "outputs": []
    },
    {
      "cell_type": "code",
      "source": [
        "def add_noise_and_compare(x: Matrix, noise_level: float = 0.1) -> dict:\n",
        "    \"\"\"\n",
        "    Вход:\n",
        "    x: матрица данных (n×m)\n",
        "    noise_level: уровень шума (доля от стандартного отклонения)\n",
        "    Выход: результаты PCA до и после добавления шума.\n",
        "    В этом задании можете проявить творческие способности, поэтому выходные данные не\n",
        "    ,→ типизированы.\n",
        "    \"\"\"\n",
        "    x_centered = center_data(x)\n",
        "    c = covariance_matrix(x_centered)\n",
        "    original_eigenvalues = find_eigenvalues(c)\n",
        "    std_devs = [math.sqrt(c.data[i][i]) for i in range(c.rows)]\n",
        "\n",
        "    n, m = x.rows, x.cols\n",
        "    noise = Matrix([[random.gauss(0, noise_level * std_devs[j]) for j in range(m)] for _ in range(n)])\n",
        "\n",
        "    x_noisy = x + noise\n",
        "    x_noisy_centered = center_data(x_noisy)\n",
        "    c_noisy = covariance_matrix(x_noisy_centered)\n",
        "    noisy_eigenvalues = find_eigenvalues(c_noisy)\n",
        "\n",
        "    return {\n",
        "        'original_eigenvalues': original_eigenvalues,\n",
        "        'noisy_eigenvalues': noisy_eigenvalues,\n",
        "        'original_projection': pca(x, 2)[0],\n",
        "        'noisy_projection': pca(x_noisy, 2)[0]\n",
        "    }"
      ],
      "metadata": {
        "id": "HYTlu6wtwGU6"
      },
      "execution_count": null,
      "outputs": []
    },
    {
      "cell_type": "code",
      "source": [
        "from sklearn.datasets import load_iris, load_wine, load_breast_cancer"
      ],
      "metadata": {
        "id": "k8TmvKy9X2Ss"
      },
      "execution_count": null,
      "outputs": []
    },
    {
      "cell_type": "code",
      "source": [
        "def apply_pca_to_dataset(dataset_name: str, k: int, useQR = False, eps=1e-10) -> tuple[Matrix, float]:\n",
        "    \"\"\"\n",
        "    Вход:\n",
        "    dataset_name: название датасета\n",
        "    k: число главных компонент\n",
        "    Выход: кортеж (проекция данных, качество модели)\n",
        "    \"\"\"\n",
        "    if dataset_name == 'iris':\n",
        "        data = load_iris()\n",
        "    elif dataset_name == 'wine':\n",
        "        data = load_wine()\n",
        "    elif dataset_name == 'breast_cancer':\n",
        "        data = load_breast_cancer()\n",
        "    else:\n",
        "        raise ValueError(f\"Датасет {dataset_name} не поддерживается.\")\n",
        "\n",
        "    X = Matrix(data.data.tolist())\n",
        "    X_filled = handle_missing_values(X)\n",
        "    x_proj, ratio = pca(X_filled, k, useQR=useQR, eps=eps)\n",
        "\n",
        "    return x_proj, ratio"
      ],
      "metadata": {
        "id": "ITya3ULIwNO1"
      },
      "execution_count": null,
      "outputs": []
    },
    {
      "cell_type": "code",
      "source": [
        "data = {'iris': load_iris(), 'wine': load_wine(), 'breast_cancer': load_breast_cancer()}\n",
        "print(data['iris'].data.tolist()[:2])\n",
        "print(data['wine'].data.tolist()[:2])\n",
        "print(data['breast_cancer'].data.tolist()[:2])"
      ],
      "metadata": {
        "id": "sPjCcGdF2cpC",
        "colab": {
          "base_uri": "https://localhost:8080/"
        },
        "outputId": "8b6c6f76-a40e-47e3-a829-b23760e0bcb2"
      },
      "execution_count": null,
      "outputs": [
        {
          "output_type": "stream",
          "name": "stdout",
          "text": [
            "[[5.1, 3.5, 1.4, 0.2], [4.9, 3.0, 1.4, 0.2]]\n",
            "[[14.23, 1.71, 2.43, 15.6, 127.0, 2.8, 3.06, 0.28, 2.29, 5.64, 1.04, 3.92, 1065.0], [13.2, 1.78, 2.14, 11.2, 100.0, 2.65, 2.76, 0.26, 1.28, 4.38, 1.05, 3.4, 1050.0]]\n",
            "[[17.99, 10.38, 122.8, 1001.0, 0.1184, 0.2776, 0.3001, 0.1471, 0.2419, 0.07871, 1.095, 0.9053, 8.589, 153.4, 0.006399, 0.04904, 0.05373, 0.01587, 0.03003, 0.006193, 25.38, 17.33, 184.6, 2019.0, 0.1622, 0.6656, 0.7119, 0.2654, 0.4601, 0.1189], [20.57, 17.77, 132.9, 1326.0, 0.08474, 0.07864, 0.0869, 0.07017, 0.1812, 0.05667, 0.5435, 0.7339, 3.398, 74.08, 0.005225, 0.01308, 0.0186, 0.0134, 0.01389, 0.003532, 24.99, 23.41, 158.8, 1956.0, 0.1238, 0.1866, 0.2416, 0.186, 0.275, 0.08902]]\n"
          ]
        }
      ]
    },
    {
      "cell_type": "code",
      "source": [
        "name = 'iris'\n",
        "print(\"Датасет: \" + name)\n",
        "title = \"PCA Projection, Dataset: \" + name\n",
        "x_proj, ratio = apply_pca_to_dataset(name, 2, False, 1e-10)\n",
        "print(f\"Проекция данных (первые 5 строк):\\n{x_proj.submatrix(0, 0, 5, 2)}\")\n",
        "print(f\"Доля объяснённой дисперсии: {ratio:.4f}\")\n",
        "\n",
        "fig = plot_pca_projection(x_proj, title)\n",
        "plt.show()\n",
        "print()"
      ],
      "metadata": {
        "id": "_CRvL8SLkKbk",
        "colab": {
          "base_uri": "https://localhost:8080/",
          "height": 628
        },
        "outputId": "2fe19cd3-0cf0-4def-9f34-341c36edc6c2"
      },
      "execution_count": null,
      "outputs": [
        {
          "output_type": "stream",
          "name": "stdout",
          "text": [
            "Датасет: iris\n",
            "Проекция данных (первые 5 строк):\n",
            "0.961984758166045 1.1490298604112716\n",
            "0.9363984456073298 1.1369175898690964\n",
            "0.8339354987592893 1.3550647460206617\n",
            "0.6471281417927681 1.2868963038525993\n",
            "0.8751795926976329 1.2329364937025562\n",
            "Доля объяснённой дисперсии: 0.9309\n"
          ]
        },
        {
          "output_type": "display_data",
          "data": {
            "text/plain": [
              "<Figure size 640x480 with 1 Axes>"
            ],
            "image/png": "[encoded data removed]"
          },
          "metadata": {}
        },
        {
          "output_type": "stream",
          "name": "stdout",
          "text": [
            "\n"
          ]
        }
      ]
    },
    {
      "cell_type": "code",
      "source": [
        "name = 'wine'\n",
        "print(\"Датасет: \" + name)\n",
        "title = \"PCA Projection, Dataset: \" + name\n",
        "x_proj, ratio = apply_pca_to_dataset(name, 2, useQR=True, eps=1e-6)\n",
        "print(f\"Проекция данных (первые 5 строк):\\n{x_proj.submatrix(0, 0, 5, 2)}\")\n",
        "print(f\"Доля объяснённой дисперсии: {ratio:.4f}\")\n",
        "fig = plot_pca_projection(x_proj, title)\n",
        "plt.show()\n",
        "print()"
      ],
      "metadata": {
        "colab": {
          "base_uri": "https://localhost:8080/",
          "height": 628
        },
        "id": "GlH44PrKkeAQ",
        "outputId": "d1a5a42c-6d77-472d-f1ae-bab54092e950"
      },
      "execution_count": null,
      "outputs": [
        {
          "output_type": "stream",
          "name": "stdout",
          "text": [
            "Датасет: wine\n",
            "Проекция данных (первые 5 строк):\n",
            "318.5629792879366 -21.49213073453993\n",
            "303.0974196593864 5.364717683064033\n",
            "438.06113291723625 6.537309449440171\n",
            "733.2401393508117 -0.1927290320719539\n",
            "-11.571428495905657 -18.48999460836035\n",
            "Доля объяснённой дисперсии: 0.9998\n"
          ]
        },
        {
          "output_type": "display_data",
          "data": {
            "text/plain": [
              "<Figure size 640x480 with 1 Axes>"
            ],
            "image/png": "[encoded data removed]"
          },
          "metadata": {}
        },
        {
          "output_type": "stream",
          "name": "stdout",
          "text": [
            "\n"
          ]
        }
      ]
    },
    {
      "cell_type": "code",
      "source": [
        "name = 'breast_cancer'\n",
        "print(\"Датасет: \" + name)\n",
        "title = \"PCA Projection, Dataset: \" + name\n",
        "x_proj, ratio = apply_pca_to_dataset(name, 2, useQR = True)\n",
        "print(f\"Проекция данных (первые 5 строк):\\n{x_proj.submatrix(0, 0, 5, 2)}\")\n",
        "print(f\"Доля объяснённой дисперсии: {ratio:.4f}\")\n",
        "\n",
        "fig = plot_pca_projection(x_proj, title)\n",
        "plt.show()\n",
        "print()"
      ],
      "metadata": {
        "id": "EJ-kF9yPki97",
        "colab": {
          "base_uri": "https://localhost:8080/",
          "height": 628
        },
        "outputId": "6d5335c4-80b5-435c-ac0b-1f344c7bd8bf"
      },
      "execution_count": null,
      "outputs": [
        {
          "output_type": "stream",
          "name": "stdout",
          "text": [
            "Датасет: breast_cancer\n",
            "Проекция данных (первые 5 строк):\n",
            "-0.5893594891669042 -0.3078043381310119\n",
            "0.08403471884788836 0.0806420067127402\n",
            "0.18699350829248895 0.27917351007879215\n",
            "0.14415507351301596 0.9274705201019722\n",
            "0.13850191139382098 0.042228103067086215\n",
            "Доля объяснённой дисперсии: 0.9982\n"
          ]
        },
        {
          "output_type": "display_data",
          "data": {
            "text/plain": [
              "<Figure size 640x480 with 1 Axes>"
            ],
            "image/png": "[encoded data removed]"
          },
          "metadata": {}
        },
        {
          "output_type": "stream",
          "name": "stdout",
          "text": [
            "\n"
          ]
        }
      ]
    },
    {
      "cell_type": "markdown",
      "source": [
        "Юнит тесты:"
      ],
      "metadata": {
        "id": "bTzp3tW8IFEt"
      }
    },
    {
      "cell_type": "code",
      "source": [
        "import unittest\n",
        "import numpy as np # для перепроверки\n",
        "\n",
        "class TestMatrixOperations(unittest.TestCase):\n",
        "    def test_matrix_creation(self):\n",
        "        data = [[1, 2], [3, 4]]\n",
        "        m = Matrix(data)\n",
        "        self.assertEqual(m.rows, 2)\n",
        "        self.assertEqual(m.cols, 2)\n",
        "        self.assertEqual(m.data, data)\n",
        "\n",
        "    def test_matrix_addition(self):\n",
        "        A = Matrix([[1, 2], [3, 4]])\n",
        "        B = Matrix([[5, 6], [7, 8]])\n",
        "        result = A + B\n",
        "        expected = Matrix([[6, 8], [10, 12]])\n",
        "        np.testing.assert_array_equal(np.array(result.data), np.array(expected.data))\n",
        "\n",
        "    def test_matrix_multiplication(self):\n",
        "        A = Matrix([[1, 2], [3, 4]])\n",
        "        B = Matrix([[2, 0], [0, 2]])\n",
        "        result = A * B\n",
        "        expected = Matrix([[2, 0], [0, 8]])\n",
        "        np.testing.assert_array_equal(np.array(result.data), np.array(expected.data))\n",
        "\n",
        "    def test_matrix_transpose(self):\n",
        "        A = Matrix([[1, 2], [3, 4], [5, 6]])\n",
        "        At = A.transpose()\n",
        "        expected = Matrix([[1, 3, 5], [2, 4, 6]])\n",
        "        np.testing.assert_array_equal(np.array(At.data), np.array(expected.data))\n",
        "\n",
        "    def test_determinant(self):\n",
        "        A = Matrix([[1, 2], [3, 4]])\n",
        "        self.assertAlmostEqual(A.calculate_determinant(), -2, delta=1e-6)\n",
        "\n",
        "class TestEigenDecomposition(unittest.TestCase):\n",
        "    def test_eigenvectors(self):\n",
        "        eigenvalues = qr_algorithm(self.test_matrix)\n",
        "        eigenvectors = get_eigenvectors(self.test_matrix, eigenvalues)\n",
        "\n",
        "        for i, vec in enumerate(eigenvectors):\n",
        "            v = np.array(vec.data).flatten()\n",
        "            Av = np.dot(self.np_matrix, v)\n",
        "            λv = eigenvalues[i] * v\n",
        "            np.testing.assert_allclose(Av, λv, atol=1e-4)\n",
        "    def setUp(self):\n",
        "        self.test_matrix = Matrix([[4, 1, 2], [1, 3, 5], [2, 5, 6]])\n",
        "        self.np_matrix = np.array(self.test_matrix.data, dtype=np.float64)\n",
        "\n",
        "    def test_eigenvalues_bisection(self):\n",
        "        eigenvalues = get_eigenvalues(self.test_matrix)\n",
        "        np_eigenvalues = np.linalg.eigvals(self.np_matrix)\n",
        "        np.testing.assert_allclose(sorted(eigenvalues), sorted(np_eigenvalues), atol=1e-6)\n",
        "\n",
        "    def test_eigenvalues_qr(self):\n",
        "        eigenvalues = qr_algorithm(self.test_matrix)\n",
        "        np_eigenvalues = np.linalg.eigvals(self.np_matrix)\n",
        "        np.testing.assert_allclose(sorted(eigenvalues), sorted(np_eigenvalues), atol=1e-6)\n",
        "\n",
        "\n",
        "class TestPCA(unittest.TestCase):\n",
        "    def setUp(self):\n",
        "        self.data = Matrix([\n",
        "            [2.5, 2.4],\n",
        "            [0.5, 0.7],\n",
        "            [2.2, 2.9],\n",
        "            [1.9, 2.2],\n",
        "            [3.1, 3.0],\n",
        "            [2.3, 2.7],\n",
        "            [2, 1.6],\n",
        "            [1, 1.1],\n",
        "            [1.5, 1.6],\n",
        "            [1.1, 0.9]\n",
        "        ])\n",
        "\n",
        "    def test_centering(self):\n",
        "        centered = center_data(self.data)\n",
        "        np_data = np.array(self.data.data)\n",
        "        np_centered = np_data - np.mean(np_data, axis=0)\n",
        "        np.testing.assert_allclose(np.array(centered.data), np_centered, atol=1e-6)\n",
        "\n",
        "    def test_covariance_matrix(self):\n",
        "        centered = center_data(self.data)\n",
        "        C = covariance_matrix(centered)\n",
        "        np_cov = np.cov(np.array(centered.data).T, bias=False)\n",
        "        np.testing.assert_allclose(np.array(C.data), np_cov, atol=1e-6)\n",
        "\n",
        "    def test_pca_projection(self):\n",
        "        x_proj, ratio = pca(self.data, 1)\n",
        "        self.assertEqual(x_proj.cols, 1)\n",
        "        self.assertAlmostEqual(ratio, 0.963, delta=0.01)\n",
        "\n",
        "\n",
        "class TestQRDecomposition(unittest.TestCase):\n",
        "    def test_qr_decomposition(self):\n",
        "        A = Matrix([[12, -51, 4], [6, 167, -68], [-4, 24, -41]])\n",
        "        Q, R = qr_decomposition(A)\n",
        "        # Проверка ортогональности Q\n",
        "        QTQ = Q.transpose() @ Q\n",
        "        np.testing.assert_allclose(np.array(QTQ.data), np.eye(3), atol=1e-6)\n",
        "        # Проверка восстановления матрицы\n",
        "        A_reconstructed = Q @ R\n",
        "        np.testing.assert_allclose(np.array(A_reconstructed.data), np.array(A.data), atol=1e-6)\n",
        "\n",
        "if __name__ == '__main__':\n",
        "    unittest.main(argv=['first-arg-is-ignored'], exit=False)"
      ],
      "metadata": {
        "id": "9Fz5nR4VUpHG",
        "colab": {
          "base_uri": "https://localhost:8080/"
        },
        "outputId": "cbc381f3-4ef8-41b5-992e-14eee521717a"
      },
      "execution_count": null,
      "outputs": [
        {
          "output_type": "stream",
          "name": "stderr",
          "text": [
            "............\n",
            "----------------------------------------------------------------------\n",
            "Ran 12 tests in 0.028s\n",
            "\n",
            "OK\n"
          ]
        }
      ]
    }
  ]
}